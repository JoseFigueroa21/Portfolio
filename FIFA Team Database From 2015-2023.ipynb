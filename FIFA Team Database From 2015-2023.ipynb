{
 "cells": [
  {
   "cell_type": "code",
   "execution_count": null,
   "id": "51f68a1d",
   "metadata": {},
   "outputs": [],
   "source": [
    "import pandas as pd # Import the Pandas library as 'pd' for data manipulation\n",
    "import matplotlib.pyplot as plt # Import the Matplotlib library as 'plt' for basic data visualization\n",
    "import seaborn as sns   # Import the Seaborn library as 'sns' for enhanced data visualization\n",
    "pd.set_option('display.max_columns', None)  # Set an option to display all columns in DataFrames (no truncation)"
   ]
  },
  {
   "cell_type": "code",
   "execution_count": null,
   "id": "ad4083eb",
   "metadata": {},
   "outputs": [],
   "source": [
    "# Load the FIFA teams data into a DataFrame\n",
    "df = pd.read_csv('C:\\\\Users\\\\figue\\OneDrive\\\\Desktop\\\\DataAnalytics\\\\Projects\\\\Python_Projects\\\\FIFA\\\\FIFA_Teams_15-23.csv')\n",
    "df"
   ]
  },
  {
   "cell_type": "code",
   "execution_count": null,
   "id": "323656af",
   "metadata": {},
   "outputs": [],
   "source": [
    "# Dataframe columns\n",
    "print(df.columns)"
   ]
  },
  {
   "cell_type": "code",
   "execution_count": null,
   "id": "de047f79",
   "metadata": {},
   "outputs": [],
   "source": [
    "# List of column names to retain in the DataFrame\n",
    "columns_to_keep = [\n",
    "    'fifa_version', \n",
    "    'team_name', \n",
    "    'league_name', \n",
    "    'nationality_name', \n",
    "    'overall', \n",
    "    'attack', \n",
    "    'midfield', \n",
    "    'defence', \n",
    "    'home_stadium'\n",
    "]\n",
    "\n",
    "# Select only the desired columns from the original DataFrame\n",
    "df = df[columns_to_keep]"
   ]
  },
  {
   "cell_type": "code",
   "execution_count": null,
   "id": "5dd273ae",
   "metadata": {},
   "outputs": [],
   "source": [
    "# Dataframe columns\n",
    "print(df.columns)"
   ]
  },
  {
   "cell_type": "code",
   "execution_count": null,
   "id": "e423ba14",
   "metadata": {},
   "outputs": [],
   "source": [
    "# Rename the column \"fifa_version\" to \"year\"\n",
    "df.rename(columns={'fifa_version': 'year'}, inplace=True)\n",
    "\n",
    "# Calculate the new year values\n",
    "df['year'] = df['year'] + 2000  # Adding 2000 to convert 15 to 2015, 16 to 2016, and so on\n",
    "df"
   ]
  },
  {
   "cell_type": "code",
   "execution_count": null,
   "id": "9923db70",
   "metadata": {},
   "outputs": [],
   "source": [
    "# Write to CSV file\n",
    "df.to_csv(\"C:\\\\Users\\\\figue\\\\OneDrive\\\\Desktop\\\\DataAnalytics\\\\Projects\\\\Python_Projects\\\\FIFA\\\\Clean_Data_FIFA_Teams_15-23.csv\", index=False)"
   ]
  },
  {
   "cell_type": "code",
   "execution_count": null,
   "id": "4af97592",
   "metadata": {},
   "outputs": [],
   "source": [
    "# Load the CLEAN FIFA teams data into a DataFrame\n",
    "clean_df = pd.read_csv('C:\\\\Users\\\\figue\\OneDrive\\\\Desktop\\\\DataAnalytics\\\\Projects\\\\Python_Projects\\\\FIFA\\\\Clean_Data_FIFA_Teams_15-23.csv')\n",
    "clean_df"
   ]
  },
  {
   "cell_type": "code",
   "execution_count": null,
   "id": "463d07be",
   "metadata": {},
   "outputs": [],
   "source": [
    "# Task 1: Team Performance Analysis\n",
    "# The code below analyzes and visualizes the average performance of FIFA teams over the years.\n",
    "# It calculates the mean overall rating of teams for each year and then creates a line plot\n",
    "# with markers to visualize the trend. The plot is titled, and the x and y axis labels are added\n",
    "# for clarity. Finally, the plot is displayed to present the analysis results.\n",
    "\n",
    "# Calculate the average overall rating of teams for each year\n",
    "team_performance = clean_df.groupby('year')['overall'].mean()\n",
    "\n",
    "# Create a line plot to visualize the average team performance over the years\n",
    "team_performance.plot(kind='line', marker='o')\n",
    "\n",
    "# Set the plot title, x-axis label, and y-axis label\n",
    "plt.title('Average Team Performance Over The Years')\n",
    "plt.xlabel('Years')\n",
    "plt.ylabel('Average Overall Rating')\n",
    "\n",
    "# Display the plot\n",
    "plt.show()"
   ]
  },
  {
   "cell_type": "code",
   "execution_count": null,
   "id": "52c91f61",
   "metadata": {},
   "outputs": [],
   "source": [
    "# Task 2: League Comparison\n",
    "# The code below analyzes and visualizes the average team ratings comparison among different leagues over the years.\n",
    "# It calculates the mean overall rating of teams for each year and each league, and then creates a line plot\n",
    "# with markers to show how the average ratings of teams from different leagues evolve over time. The plot is\n",
    "# titled, x and y axis labels are added, and a legend is included to indicate the league categories.\n",
    "# Finally, the plot is displayed to present the league comparison analysis.\n",
    "\n",
    "# Calculate the average overall rating of teams for each year and each league\n",
    "league_comparison = clean_df.groupby(['year', 'league_name'])['overall'].mean().unstack()\n",
    "\n",
    "# Create a line plot to compare average team ratings by league over the years\n",
    "league_comparison.plot(kind='line', marker='o', figsize=(10, 6))\n",
    "\n",
    "# Set the plot title, x-axis label, and y-axis label\n",
    "plt.title('Average Team Ratings Comparison by League Over The Years')\n",
    "plt.xlabel('Years')\n",
    "plt.ylabel('Average Overall Rating')\n",
    "\n",
    "# Add a legend with the title 'League' to differentiate league categories\n",
    "plt.legend(title='League')\n",
    "\n",
    "# Display the plot\n",
    "plt.show()"
   ]
  },
  {
   "cell_type": "code",
   "execution_count": null,
   "id": "0378bd14",
   "metadata": {},
   "outputs": [],
   "source": [
    "# Task 3: National Team Analysis\n",
    "# The code below analyzes and visualizes the average performance of the national team of England over the years.\n",
    "# It selects the rows where the nationality is 'England', calculates the mean overall rating of the national\n",
    "# team for each year, and then creates a line plot with markers to show how the average ratings of the\n",
    "# national team evolve over time. The plot is titled, and x and y axis labels are added for clarity.\n",
    "# Finally, the plot is displayed to present the national team analysis.\n",
    "\n",
    "# Select rows where the 'nationality_name' column is 'England'\n",
    "national_team_analysis = clean_df[clean_df['nationality_name'] == 'England']\n",
    "\n",
    "# Calculate the average overall rating of the national team for each year\n",
    "national_team_performance = national_team_analysis.groupby('year')['overall'].mean()\n",
    "\n",
    "# Create a line plot to visualize the average national team performance over the years\n",
    "national_team_performance.plot(kind='line', marker='o')\n",
    "\n",
    "# Set the plot title, x-axis label, and y-axis label\n",
    "plt.title('Average National Team Performance Over The Years')\n",
    "plt.xlabel('Years')\n",
    "plt.ylabel('Average Overall Rating')\n",
    "\n",
    "# Display the plot\n",
    "plt.show()"
   ]
  },
  {
   "cell_type": "code",
   "execution_count": null,
   "id": "3549362f",
   "metadata": {},
   "outputs": [],
   "source": [
    "# Task 4: Stadium Influence\n",
    "# The code below analyzes and visualizes the influence of home stadiums on team ratings.\n",
    "# It calculates the mean overall rating of teams for each home stadium, sorts the stadiums\n",
    "# in descending order based on their average ratings, selects the top 10 stadiums, and then\n",
    "# creates a bar plot to show the top home stadiums with the highest team ratings. The plot is\n",
    "# titled, and x and y axis labels are added for clarity. X-axis labels are rotated for better readability.\n",
    "# Finally, the plot is displayed to present the stadium influence analysis.\n",
    "\n",
    "# Calculate the average overall rating of teams for each home stadium\n",
    "stadium_influence = clean_df.groupby('home_stadium')['overall'].mean().sort_values(ascending=False)\n",
    "\n",
    "# Select the top 10 home stadiums with the highest team ratings\n",
    "# reate a bar plot to visualize the top 10 home stadiums with the highest team ratings\n",
    "stadium_influence[:10].plot(kind='bar', figsize=(10, 6))\n",
    "\n",
    "# Set the plot title, x-axis label, and y-axis label\n",
    "plt.title('Top 10 Home Stadiums with Highest Team Ratings')\n",
    "plt.xlabel('Home Stadium')\n",
    "plt.ylabel('Average Overall Rating')\n",
    "\n",
    "# Rotate x-axis labels for better readability\n",
    "plt.xticks(rotation=45)\n",
    "\n",
    "# Display the plot\n",
    "plt.show()"
   ]
  },
  {
   "cell_type": "code",
   "execution_count": null,
   "id": "4fc4c789",
   "metadata": {},
   "outputs": [],
   "source": [
    "# Task 5: Time Series Analysis\n",
    "# The code performs a time series analysis on the evolution of team attributes over the years.\n",
    "# It calculates the mean ratings of 'attack', 'midfield', and 'defence' for each year using a pivot table,\n",
    "# and then creates a line plot with markers to visualize how these attributes change over time. The plot is\n",
    "# titled, and x and y axis labels are added for clarity. Finally, the plot is displayed to present the\n",
    "# time series analysis results.\n",
    "\n",
    "# Calculate the mean ratings of 'attack', 'midfield', and 'defence' for each year\n",
    "time_series_analysis = clean_df.pivot_table(index='year', values=['attack', 'midfield', 'defence'], aggfunc='mean')\n",
    "\n",
    "# Create a line plot to visualize the evolution of team attributes over the years\n",
    "time_series_analysis.plot(kind='line', marker='o', figsize=(10, 6))\n",
    "\n",
    "# Set the plot title, x-axis label, and y-axis label\n",
    "plt.title('Team Attributes Evolution Over Years')\n",
    "plt.xlabel('Year')\n",
    "plt.ylabel('Average Rating')\n",
    "\n",
    "# Display the plot\n",
    "plt.show()"
   ]
  },
  {
   "cell_type": "code",
   "execution_count": null,
   "id": "f2c0ad41",
   "metadata": {},
   "outputs": [],
   "source": [
    "# Task 6: Correlations\n",
    "# ThE code below performs a correlation analysis among team attributes ('overall', 'attack', 'midfield', 'defence').\n",
    "# It calculates the correlation matrix and then creates a heatmap to visualize the correlations between these attributes.\n",
    "# The heatmap colors indicate the strength and direction of the correlations. The plot is titled and displayed\n",
    "# to present the correlation analysis results.\n",
    "\n",
    "# Calculate the correlation matrix among 'overall', 'attack', 'midfield', and 'defence' attributes\n",
    "correlation_matrix = clean_df[['overall', 'attack', 'midfield', 'defence']].corr()\n",
    "\n",
    "# Create a heatmap to visualize the correlation matrix\n",
    "sns.heatmap(correlation_matrix, annot=True, cmap='coolwarm')\n",
    "\n",
    "# Set the plot title\n",
    "plt.title('Correlation Matrix')\n",
    "\n",
    "# Display the plot\n",
    "plt.show()"
   ]
  },
  {
   "cell_type": "code",
   "execution_count": null,
   "id": "7510307f",
   "metadata": {},
   "outputs": [],
   "source": [
    "# Task 7: Top Teams\n",
    "# The code below identifies and visualizes the top 10 teams with the highest overall ratings.\n",
    "# It selects the top teams based on the 'overall' attribute, then creates a bar plot to\n",
    "# display the teams' names on the x-axis and their corresponding overall ratings on the y-axis.\n",
    "# The plot is titled, x and y axis labels are added, and x-axis labels are rotated for better readability.\n",
    "# Finally, the plot is displayed to present the analysis results.\n",
    "\n",
    "# Select the top 10 teams with the highest overall ratings\n",
    "top_teams = clean_df.nlargest(10, 'overall')[['team_name', 'overall']]\n",
    "\n",
    "# Create a bar plot to visualize the top 10 teams by their overall ratings\n",
    "top_teams.plot(kind='bar', x='team_name', y='overall', figsize=(10, 6))\n",
    "\n",
    "# Set the plot title, x-axis label, and y-axis label\n",
    "plt.title('Top 10 Teams by Overall Rating')\n",
    "plt.xlabel('Team')\n",
    "plt.ylabel('Overall Rating')\n",
    "\n",
    "# Rotate x-axis labels for better readability\n",
    "plt.xticks(rotation=45)\n",
    "\n",
    "# Display the plot\n",
    "plt.show()"
   ]
  },
  {
   "cell_type": "code",
   "execution_count": null,
   "id": "0083808d",
   "metadata": {},
   "outputs": [],
   "source": [
    "# Task 8: Data Distribution and Outliers\n",
    "# The code below examines the distribution and identifies potential outliers in team ratings.\n",
    "# It creates a boxplot to visualize the distribution of ratings for attributes 'overall', 'attack', 'midfield', and 'defence'.\n",
    "# The boxplot provides information about the median, quartiles, and potential outliers in the data.\n",
    "# The plot is titled and displayed to present the analysis results.\n",
    "\n",
    "# Create a figure with a specific size for the boxplot\n",
    "plt.figure(figsize=(12, 6))\n",
    "\n",
    "# Create a boxplot to visualize the distribution and outliers of team ratings\n",
    "clean_df[['overall', 'attack', 'midfield', 'defence']].boxplot()\n",
    "\n",
    "# Set the plot title and y-axis label\n",
    "plt.title('Distribution and Outliers of Team Ratings')\n",
    "plt.ylabel('Rating')\n",
    "\n",
    "# Display the plot\n",
    "plt.show()"
   ]
  }
 ],
 "metadata": {
  "kernelspec": {
   "display_name": "Python 3",
   "language": "python",
   "name": "python3"
  },
  "language_info": {
   "codemirror_mode": {
    "name": "ipython",
    "version": 3
   },
   "file_extension": ".py",
   "mimetype": "text/x-python",
   "name": "python",
   "nbconvert_exporter": "python",
   "pygments_lexer": "ipython3",
   "version": "3.10.4"
  }
 },
 "nbformat": 4,
 "nbformat_minor": 5
}
